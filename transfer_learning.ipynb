{
 "cells": [
  {
   "cell_type": "code",
   "execution_count": 2,
   "metadata": {
    "collapsed": true
   },
   "outputs": [],
   "source": [
    "# this file aims at using transfer learning, to get the result in somewhat middle part of the computational\n",
    "# graph, this time I use inception_resnet_v2\n",
    "import tensorflow as tf\n",
    "import numpy as np\n",
    "from tensorflow.contrib.framework.python.ops.variables import get_or_create_global_step\n",
    "from inception_resnet_v2 import inception_resnet_v2, inception_resnet_v2_arg_scope\n",
    "from data_preprocessing import image_preprocessing\n",
    "slim = tf.contrib.slim"
   ]
  },
  {
   "cell_type": "code",
   "execution_count": 3,
   "metadata": {
    "collapsed": true
   },
   "outputs": [],
   "source": [
    "checkpoint_file = './inception_resnet_v2_2016_08_30.ckpt'\n",
    "label_file = 'training/label.idl'\n",
    "train_file = 'training/'"
   ]
  },
  {
   "cell_type": "code",
   "execution_count": 4,
   "metadata": {
    "collapsed": true
   },
   "outputs": [],
   "source": [
    "# build the computational graph from inception_resnet_v2 and extract a mid point.\n",
    "images = tf.placeholder(tf.float32, shape=(None, 360, 640, 3))\n",
    "images_norm = tf.divide(images, 255)\n",
    "with slim.arg_scope(inception_resnet_v2_arg_scope()):\n",
    "    _, end_points = inception_resnet_v2(images_norm, num_classes = 1001, is_training = True)    \n",
    "\n",
    "Mixed_5b = end_points['Mixed_5b']\n",
    "    \n",
    "# define the variables that I don't need to restore\n",
    "exclude = ['InceptionResnetV2/AuxLogits', 'InceptionResnetV2/Logits']\n",
    "variables_to_restore = slim.get_variables_to_restore(exclude = exclude)\n",
    "saver = tf.train.Saver(variables_to_restore)"
   ]
  },
  {
   "cell_type": "code",
   "execution_count": 5,
   "metadata": {
    "collapsed": true
   },
   "outputs": [],
   "source": [
    "image_preprocessor = image_preprocessing(train_file, label_file)\n",
    "image_preprocessor.get_training_data()"
   ]
  },
  {
   "cell_type": "code",
   "execution_count": 11,
   "metadata": {},
   "outputs": [
    {
     "name": "stdout",
     "output_type": "stream",
     "text": [
      "INFO:tensorflow:Restoring parameters from ./inception_resnet_v2_2016_08_30.ckpt\n"
     ]
    }
   ],
   "source": [
    "with tf.Session() as sess:\n",
    "    saver.restore(sess, checkpoint_file)\n",
    "    result = sess.run(Mixed_5b, feed_dict = {images: image_preprocessor.next_batch()[0]})"
   ]
  },
  {
   "cell_type": "code",
   "execution_count": null,
   "metadata": {
    "collapsed": true
   },
   "outputs": [],
   "source": []
  }
 ],
 "metadata": {
  "kernelspec": {
   "display_name": "Python 3",
   "language": "python",
   "name": "python3"
  },
  "language_info": {
   "codemirror_mode": {
    "name": "ipython",
    "version": 3
   },
   "file_extension": ".py",
   "mimetype": "text/x-python",
   "name": "python",
   "nbconvert_exporter": "python",
   "pygments_lexer": "ipython3",
   "version": "3.6.2"
  }
 },
 "nbformat": 4,
 "nbformat_minor": 2
}
