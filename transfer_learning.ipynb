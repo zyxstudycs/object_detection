{
 "cells": [
  {
   "cell_type": "code",
   "execution_count": 1,
   "metadata": {
    "collapsed": true
   },
   "outputs": [],
   "source": [
    "# this file aims at using transfer learning, to get the result in somewhat middle part of the computational\n",
    "# graph, this time I use inception_resnet_v2\n",
    "import tensorflow as tf\n",
    "import numpy as np\n",
    "from tensorflow.contrib.framework.python.ops.variables import get_or_create_global_step\n",
    "from inception_resnet_v2 import inception_resnet_v2, inception_resnet_v2_arg_scope\n",
    "from data_preprocessing import image_preprocessing\n",
    "slim = tf.contrib.slim"
   ]
  },
  {
   "cell_type": "code",
   "execution_count": 2,
   "metadata": {
    "collapsed": true
   },
   "outputs": [],
   "source": [
    "checkpoint_file = './inception_resnet_v2_2016_08_30.ckpt'\n",
    "label_file = 'training/label.idl'\n",
    "train_file = 'training/'\n",
    "validation_file = 'validation/'"
   ]
  },
  {
   "cell_type": "code",
   "execution_count": 3,
   "metadata": {
    "collapsed": true
   },
   "outputs": [],
   "source": [
    "def get_loss(box_confidence, confidence, box_coordinate, coordinate, box_class_label, class_label):\n",
    "    # first get all the loss which grids have target in it\n",
    "    filtering_mask_obj = tf.reshape(box_confidence > 0.5, [-1, 18, 32])\n",
    "    \n",
    "    box_confidence_obj = tf.boolean_mask(box_confidence, filtering_mask_obj)\n",
    "    confidence_obj = tf.boolean_mask(confidence, filtering_mask_obj)\n",
    "    box_coordinate_obj = tf.boolean_mask(box_coordinate, filtering_mask_obj)\n",
    "    coordinate_obj = tf.boolean_mask(coordinate, filtering_mask_obj)\n",
    "    box_class_label_obj = tf.boolean_mask(box_class_label, filtering_mask_obj)\n",
    "    class_label_ojb = tf.boolean_mask(box_class_label, filtering_mask_obj)\n",
    "    \n",
    "    coor_loss = 5 * tf.reduce_sum(tf.square(tf.subtract(box_coordinate_obj, coordinate_obj)))\n",
    "    conf_loss = tf.reduce_sum(tf.square(tf.subtract(box_confidence_obj, confidence_obj)))\n",
    "    class_loss = tf.reduce_sum(tf.square(tf.subtract(box_class_label_obj, class_label_ojb)))\n",
    "    \n",
    "    # get all the loss which grids have no target in it\n",
    "    filtering_mask_noobj = tf.reshape(box_confidence < 0.5, [-1, 18, 32])\n",
    "    \n",
    "    box_confidence_noobj = tf.boolean_mask(box_confidence, filtering_mask_noobj)\n",
    "    confidence_noobj = tf.boolean_mask(confidence, filtering_mask_noobj)\n",
    "    \n",
    "    conf_loss_noobj = 0.5 * tf.reduce_sum(tf.square(tf.subtract(box_confidence_noobj, confidence_noobj)))\n",
    "    \n",
    "    loss = coor_loss + conf_loss + class_loss + conf_loss_noobj\n",
    "    \n",
    "    return loss"
   ]
  },
  {
   "cell_type": "code",
   "execution_count": 4,
   "metadata": {
    "collapsed": true
   },
   "outputs": [],
   "source": [
    "# build the computational graph from inception_resnet_v2 and extract a mid point.\n",
    "\n",
    "images = tf.placeholder(tf.float32, shape=(None, 360, 640, 3))\n",
    "box_confidence = tf.placeholder(tf.float32, shape=(None, 18, 32, 1))\n",
    "box_coordinate = tf.placeholder(tf.float32, shape=(None, 18, 32, 4))\n",
    "box_class_label = tf.placeholder(tf.float32, shape=(None, 18, 32, 4))\n",
    "\n",
    "images_norm = tf.divide(images, 255)\n",
    "with slim.arg_scope(inception_resnet_v2_arg_scope()):\n",
    "    _, end_points = inception_resnet_v2(images_norm, num_classes = 1001, is_training = False)    \n",
    "\n",
    "Mixed_5b = end_points['Mixed_5b']\n"
   ]
  },
  {
   "cell_type": "code",
   "execution_count": 5,
   "metadata": {},
   "outputs": [
    {
     "name": "stderr",
     "output_type": "stream",
     "text": [
      "/Users/zhengyixing/anaconda3/lib/python3.6/site-packages/tensorflow/python/ops/gradients_impl.py:95: UserWarning: Converting sparse IndexedSlices to a dense Tensor of unknown shape. This may consume a large amount of memory.\n",
      "  \"Converting sparse IndexedSlices to a dense Tensor of unknown shape. \"\n"
     ]
    }
   ],
   "source": [
    "with tf.name_scope('my_fine_tune') as scope:\n",
    "    conv1 = tf.layers.conv2d(Mixed_5b, filters=160, kernel_size=(3,3), strides=2, padding = 'valid',\n",
    "                             activation = tf.nn.relu, name='conv1')\n",
    "#     weight1= tf.get_collection(tf.GraphKeys.TRAINABLE_VARIABLES, 'conv1')[0]\n",
    "    batch_norm1 = tf.layers.batch_normalization(conv1, axis = -1)\n",
    "    \n",
    "    conv2 = tf.layers.conv2d(inputs=batch_norm1, filters=80, kernel_size=(1,3), strides=1, \n",
    "                                padding = 'VALID', activation = tf.nn.relu, name='conv2')\n",
    "    batch_norm2 = tf.layers.batch_normalization(conv2, axis = -1)\n",
    "    \n",
    "    conv3 = tf.layers.conv2d(inputs=batch_norm2, filters = 9, kernel_size=(1,3), strides=1,\n",
    "                            padding = 'VALID', activation = tf.nn.relu, name='conv3')\n",
    "    batch_norm3 = tf.layers.batch_normalization(conv3, axis = -1)\n",
    "    \n",
    "    confidence = tf.layers.conv2d(inputs=batch_norm3, filters = 1, kernel_size=(3,3), strides=1,\n",
    "                            padding = 'VALID', activation = tf.nn.relu, name='conv_confidence')\n",
    "    coordinate = tf.layers.conv2d(inputs=batch_norm3, filters = 4, kernel_size=(3,3), strides=1,\n",
    "                            padding = 'VALID', activation = tf.nn.relu, name='conv_coordinate')\n",
    "    class_label = tf.layers.conv2d(inputs=batch_norm3, filters = 4, kernel_size=(3,3), strides=1,\n",
    "                            padding = 'VALID', activation = tf.nn.relu, name='conv_class_label')\n",
    "    \n",
    "    loss = get_loss(box_confidence, confidence, box_coordinate, coordinate, box_class_label, class_label)\n",
    "    \n",
    "    # define the variables that I want to train\n",
    "    weight1= tf.get_collection(tf.GraphKeys.TRAINABLE_VARIABLES, 'conv1')[0]\n",
    "    bias1 = tf.get_collection(tf.GraphKeys.TRAINABLE_VARIABLES, 'conv1')[1]\n",
    "    \n",
    "    weight2= tf.get_collection(tf.GraphKeys.TRAINABLE_VARIABLES, 'conv2')[0]\n",
    "    bias2 = tf.get_collection(tf.GraphKeys.TRAINABLE_VARIABLES, 'conv2')[1]\n",
    "    \n",
    "    weight3= tf.get_collection(tf.GraphKeys.TRAINABLE_VARIABLES, 'conv3')[0]\n",
    "    bias3 = tf.get_collection(tf.GraphKeys.TRAINABLE_VARIABLES, 'conv3')[1]\n",
    "    \n",
    "    weight_confidence= tf.get_collection(tf.GraphKeys.TRAINABLE_VARIABLES, 'conv_confidence')[0]\n",
    "    bias_confidence = tf.get_collection(tf.GraphKeys.TRAINABLE_VARIABLES, 'conv_confidence')[1]\n",
    "    \n",
    "    weight_coordinate= tf.get_collection(tf.GraphKeys.TRAINABLE_VARIABLES, 'conv_coordinate')[0]\n",
    "    bias_coordinate = tf.get_collection(tf.GraphKeys.TRAINABLE_VARIABLES, 'conv_coordinate')[1]\n",
    "    \n",
    "    weight_class_label= tf.get_collection(tf.GraphKeys.TRAINABLE_VARIABLES, 'conv_class_label')[0]\n",
    "    bias_class_label = tf.get_collection(tf.GraphKeys.TRAINABLE_VARIABLES, 'conv_class_label')[1]\n",
    "    \n",
    "    variables_to_train = [weight1,weight2,weight3,weight_confidence,weight_coordinate,weight_class_label,\n",
    "                         bias1,bias2,bias3,bias_confidence,bias_coordinate,bias_class_label]\n",
    "    \n",
    "    # define the optimizer and train operation.\n",
    "    optimizer = tf.train.AdamOptimizer()\n",
    "    train_op = slim.learning.create_train_op(loss, optimizer, variables_to_train=variables_to_train)\n",
    "    \n",
    "# define the variables that I don't need to restore\n",
    "exclude = ['InceptionResnetV2/AuxLogits', 'InceptionResnetV2/Logits','my_fine_tune/',\n",
    "          'conv1','conv2','conv3','conv_confidence','conv_coordinate','conv_class_label',\n",
    "          'batch_normalization','batch_normalization_2','batch_normalization_3']\n",
    "\n",
    "variables_to_restore = slim.get_variables_to_restore(exclude = exclude)\n",
    "saver = tf.train.Saver(variables_to_restore)\n",
    "init = tf.global_variables_initializer()"
   ]
  },
  {
   "cell_type": "code",
   "execution_count": 8,
   "metadata": {},
   "outputs": [],
   "source": [
    "image_preprocessor = image_preprocessing(train_file, label_file, validation_file)\n",
    "image_preprocessor.prepare_data()"
   ]
  },
  {
   "cell_type": "code",
   "execution_count": 10,
   "metadata": {},
   "outputs": [
    {
     "name": "stdout",
     "output_type": "stream",
     "text": [
      "INFO:tensorflow:Restoring parameters from ./inception_resnet_v2_2016_08_30.ckpt\n",
      "###############################################################\n",
      "the loss after 0 iteration is: 1971.03\n",
      "the validation loss after 0 iteration is: 50305.8\n",
      "###############################################################\n",
      "the loss after 1 iteration is: 6860.02\n",
      "the validation loss after 1 iteration is: 29136.4\n",
      "###############################################################\n",
      "the loss after 2 iteration is: 4412.55\n",
      "the validation loss after 2 iteration is: 14612.0\n",
      "###############################################################\n",
      "the loss after 3 iteration is: 2603.67\n",
      "the validation loss after 3 iteration is: 15610.6\n",
      "###############################################################\n",
      "the loss after 4 iteration is: 2483.37\n",
      "the validation loss after 4 iteration is: 15195.8\n",
      "###############################################################\n",
      "the loss after 5 iteration is: 1645.56\n",
      "the validation loss after 5 iteration is: 15057.9\n",
      "###############################################################\n",
      "the loss after 6 iteration is: 1849.84\n",
      "the validation loss after 6 iteration is: 15197.2\n",
      "###############################################################\n",
      "the loss after 7 iteration is: 1973.83\n",
      "the validation loss after 7 iteration is: 14835.2\n",
      "###############################################################\n",
      "the loss after 8 iteration is: 2856.76\n",
      "the validation loss after 8 iteration is: 14258.9\n",
      "###############################################################\n",
      "the loss after 9 iteration is: 3362.65\n",
      "the validation loss after 9 iteration is: 14150.9\n"
     ]
    }
   ],
   "source": [
    "with tf.Session() as sess:\n",
    "    sess.run(init)\n",
    "    saver.restore(sess, checkpoint_file)\n",
    "    for i in range(100):\n",
    "        the_images, labels = image_preprocessor.get_next_image_batch()\n",
    "        the_loss = sess.run(train_op, feed_dict={images: the_images, \n",
    "                                                 box_confidence: labels['confidence'],\n",
    "                                                 box_class_label: labels['class_label'],\n",
    "                                                 box_coordinate: labels['coordinate']})\n",
    "        \n",
    "        if(i % 10 == 0):\n",
    "            validation_loss = sess.run(loss, feed_dict={images:image_preprocessor.validation_images,\n",
    "                                                        box_confidence: image_preprocessor.validation_labels['confidence'],\n",
    "                                                        box_class_label: image_preprocessor.validation_labels['class_label'],\n",
    "                                                        box_coordinate: image_preprocessor.validation_labels['coordinate']})\n",
    "\n",
    "            print('###############################################################')\n",
    "            print('the loss after ' + str(i) + ' iteration is: ' + str(the_loss))\n",
    "            print('the validation loss after ' + str(i) + ' iteration is: ' + str(validation_loss))\n",
    "        "
   ]
  },
  {
   "cell_type": "code",
   "execution_count": null,
   "metadata": {},
   "outputs": [],
   "source": [
    "image_preprocessor.labels['class_label'].shape"
   ]
  },
  {
   "cell_type": "code",
   "execution_count": null,
   "metadata": {
    "collapsed": true
   },
   "outputs": [],
   "source": [
    "heheh = tf.get_collection(tf.GraphKeys.TRAINABLE_VARIABLES, 'batch_normalization_2')"
   ]
  },
  {
   "cell_type": "code",
   "execution_count": null,
   "metadata": {},
   "outputs": [],
   "source": [
    "print(images)"
   ]
  },
  {
   "cell_type": "code",
   "execution_count": null,
   "metadata": {
    "collapsed": true
   },
   "outputs": [],
   "source": [
    "_, labels = image_preprocessor.get_next_image_batch()"
   ]
  },
  {
   "cell_type": "code",
   "execution_count": null,
   "metadata": {},
   "outputs": [],
   "source": [
    "(labels['coordinate'].shape)"
   ]
  },
  {
   "cell_type": "code",
   "execution_count": null,
   "metadata": {
    "collapsed": true
   },
   "outputs": [],
   "source": []
  }
 ],
 "metadata": {
  "kernelspec": {
   "display_name": "Python 3",
   "language": "python",
   "name": "python3"
  },
  "language_info": {
   "codemirror_mode": {
    "name": "ipython",
    "version": 3
   },
   "file_extension": ".py",
   "mimetype": "text/x-python",
   "name": "python",
   "nbconvert_exporter": "python",
   "pygments_lexer": "ipython3",
   "version": "3.6.2"
  }
 },
 "nbformat": 4,
 "nbformat_minor": 2
}
