{
 "cells": [
  {
   "cell_type": "code",
   "execution_count": 1,
   "metadata": {
    "collapsed": true
   },
   "outputs": [],
   "source": [
    "import json\n",
    "import cv2\n",
    "import matplotlib.pyplot as plt\n",
    "import matplotlib.image as mpimg\n",
    "from matplotlib.patches import Rectangle\n",
    "import numpy as np\n",
    "label_file = 'training/label.idl'\n",
    "train_file = 'training/'\n",
    "validation_file = 'validation/'"
   ]
  },
  {
   "cell_type": "code",
   "execution_count": 2,
   "metadata": {
    "collapsed": true
   },
   "outputs": [],
   "source": [
    "# write a function to plot the image and boxes.\n",
    "def plot_image(pic, poses):\n",
    "    \n",
    "    fig,ax = plt.subplots()\n",
    "    img=mpimg.imread(train_file + pic0)\n",
    "    ax.imshow(img)\n",
    "    \n",
    "    for pos in poses:\n",
    "        left_up_x = pos[0]\n",
    "        left_up_y = pos[1]\n",
    "        width = pos[2] - pos[0]\n",
    "        height = pos[3] - pos[1]\n",
    "        label = pos[4]\n",
    "        \n",
    "        if label == 1:\n",
    "            edgecolor = 'r'\n",
    "            text = 'vehicle'\n",
    "        if label == 2:\n",
    "            edgecolor = 'b'\n",
    "            text = 'pedestrian'\n",
    "        if label == 3:\n",
    "            edgecolor = 'g'\n",
    "            text = 'cyclist'\n",
    "        if label == 20:\n",
    "            edgecolor = 'y'\n",
    "            text = 'traffic lights'\n",
    "        \n",
    "        rect = Rectangle((left_up_x,left_up_y),width,height,linewidth=1,edgecolor=edgecolor,facecolor='none')\n",
    "        ax.add_patch(rect)\n",
    "        ax.text(left_up_x/640, 1 - left_up_y/360, 'left top',\n",
    "        horizontalalignment='left',\n",
    "        verticalalignment='top',\n",
    "        transform=ax.transAxes)\n",
    "            \n",
    "    plt.show()"
   ]
  },
  {
   "cell_type": "code",
   "execution_count": 6,
   "metadata": {
    "collapsed": true
   },
   "outputs": [],
   "source": [
    "# define a class to process data, like get image matrix, get next batch, get label format and extract some\n",
    "# information from the data\n",
    "class image_preprocessing(object):  \n",
    "    def __init__(self, train_file, label_file, validation_file):\n",
    "        self.train_file = train_file\n",
    "        self.label_file = label_file\n",
    "        self.validation_file = validation_file\n",
    "        self.pic_to_poc, self.pic_to_num, self.num_to_pic, self.num_to_pos = self.extract_data(self.label_file)\n",
    "        self.images = None\n",
    "        self.labels = None\n",
    "        self.validation_images = None\n",
    "        self.validation_labels = None\n",
    "        self.mini_batch = 0\n",
    "        \n",
    "    def define_image(self, images):\n",
    "        self.images = images\n",
    "        \n",
    "    def prepare_data(self):\n",
    "        self.get_validation_data()\n",
    "        self.get_training_label()\n",
    "        self.get_validation_label()\n",
    "    \n",
    "    def get_training_data(self):\n",
    "        images = []\n",
    "        for i in range(len(self.num_to_pic)):\n",
    "            pic = self.num_to_pic[i]\n",
    "            img=mpimg.imread(self.train_file + pic)\n",
    "            images.append(img)\n",
    "        self.images = np.array(images) \n",
    "        \n",
    "    def get_validation_data(self):\n",
    "        images = []\n",
    "        for i in range(200):\n",
    "            pic = self.num_to_pic[9800+i]\n",
    "            img=mpimg.imread(self.validation_file + pic)\n",
    "            images.append(img)\n",
    "        self.validation_images = np.array(images)         \n",
    "        \n",
    "        \n",
    "    # this time I only use one anchor box in each grid. This function return 3 things. \n",
    "    # thus I am assuming every grid have most 1 object.\n",
    "    def get_training_label(self):\n",
    "        \"\"\"\n",
    "        box_cofidence: [9500, 18, 32, 1]\n",
    "        box_coordinate: [9500, 18, 32, 4]\n",
    "        box_class_label: [9500, 18, 32, 4]\n",
    "        \"\"\"\n",
    "        labels = {}\n",
    "        confidences = []\n",
    "        coordinates = []\n",
    "        class_labels = []\n",
    "        \n",
    "        for i in range(len(self.num_to_pos) - 200):\n",
    "            positions = self.num_to_pos[i] \n",
    "            confidence, coordinate, class_label = self.get_one_training_label(positions)\n",
    "            confidences.append(confidence)\n",
    "            coordinates.append(coordinate)\n",
    "            class_labels.append(class_label)\n",
    "        \n",
    "        labels['confidence'] = np.array(confidences)\n",
    "        labels['coordinate'] = np.array(coordinates)\n",
    "        labels['class_label'] = np.array(class_labels)\n",
    "        \n",
    "        self.labels = labels\n",
    "        \n",
    "    def get_validation_label(self):\n",
    "        labels = {}\n",
    "        confidences = []\n",
    "        coordinates = []\n",
    "        class_labels = []\n",
    "        \n",
    "        for i in range(200):\n",
    "            positions = self.num_to_pos[i + 9800] \n",
    "            confidence, coordinate, class_label = self.get_one_training_label(positions)\n",
    "            confidences.append(confidence)\n",
    "            coordinates.append(coordinate)\n",
    "            class_labels.append(class_label)\n",
    "        \n",
    "        labels['confidence'] = np.array(confidences)\n",
    "        labels['coordinate'] = np.array(coordinates)\n",
    "        labels['class_label'] = np.array(class_labels)\n",
    "        \n",
    "        self.validation_labels = labels\n",
    "       \n",
    "    def get_next_image_batch(self, batch_size = 128):\n",
    "        assert(type(batch_size) == int)\n",
    "        images = []\n",
    "        if self.mini_batch >= len(self.num_to_pic) - 200:\n",
    "            self.mini_batch = 0\n",
    "        \n",
    "        if self.mini_batch + batch_size > len(self.num_to_pic) - 200:\n",
    "            the_batch = len(self.num_to_pic) - 200 - self.mini_batch\n",
    "        else:\n",
    "            the_batch = batch_size\n",
    "            \n",
    "        for i in range(the_batch):\n",
    "            pic = self.num_to_pic[i + self.mini_batch]\n",
    "            img = mpimg.imread(self.train_file + pic)\n",
    "            images.append(img)\n",
    "        if(self.labels is not None):\n",
    "            labels = {}\n",
    "            confidence = self.labels['confidence'][self.mini_batch: (self.mini_batch + the_batch),:,:,:]\n",
    "            coordinate = self.labels['coordinate'][self.mini_batch: (self.mini_batch + the_batch),:,:,:]\n",
    "            class_label = self.labels['class_label'][self.mini_batch: (self.mini_batch + the_batch),:,:,:]\n",
    "            labels['confidence'] = confidence\n",
    "            labels['coordinate'] = coordinate\n",
    "            labels['class_label'] = class_label\n",
    "        else:\n",
    "            labels = None\n",
    "        self.mini_batch += batch_size\n",
    "        \n",
    "        return np.array(images), labels\n",
    "        \n",
    "    \n",
    "    def next_batch(self, batch_size = 128):\n",
    "        assert(type(batch_size) == int)\n",
    "        if self.mini_batch >= len(self.num_to_pic):\n",
    "            self.mini_batch = 0\n",
    "        images = self.images[self.mini_batch: (self.mini_batch + batch_size), :, :, :]\n",
    "        if(self.labels is not None):\n",
    "            labels = {}\n",
    "            confidence = self.labels['confidence'][self.mini_batch: (self.mini_batch + batch_size),:,:,:]\n",
    "            coordinate = self.labels['coordinate'][self.mini_batch: (self.mini_batch + batch_size),:,:,:]\n",
    "            class_label = self.labels['class_label'][self.mini_batch: (self.mini_batch + batch_size),:,:,:]\n",
    "            labels['confidence'] = confidence\n",
    "            labels['coordinate'] = coordinate\n",
    "            labels['class_label'] = class_label\n",
    "        else:\n",
    "            labels = None\n",
    "        self.mini_batch += batch_size\n",
    "            \n",
    "        return images, labels\n",
    "        \n",
    "        \n",
    "    # write a function to get the pic_to_num, pic_to_pos, num_to_pic, num_to_pos\n",
    "    def extract_data(self, label_file):\n",
    "        pic_to_poc = {}\n",
    "        pic_to_num = {}\n",
    "        num_to_pic = {}\n",
    "        num_to_pos = {}\n",
    "        num = 0\n",
    "\n",
    "        with open(label_file, 'r') as f:\n",
    "            lines = f.readlines()\n",
    "\n",
    "        for line in lines[:len(lines)]:\n",
    "            jline = json.loads(line)\n",
    "            for pic, pos in jline.items():\n",
    "                pic_to_poc[pic] = pos\n",
    "                pic_to_num[pic] = num\n",
    "                num_to_pic[num] = pic\n",
    "                num_to_pos[num] = pos\n",
    "                num += 1\n",
    "        \n",
    "        return pic_to_poc, pic_to_num, num_to_pic, num_to_pos\n",
    "    \n",
    "     \n",
    "    def get_one_training_label(self, positions):\n",
    "        confidence = np.zeros((18, 32, 1), dtype=np.float32)\n",
    "        coordinate = np.zeros((18, 32, 4), dtype=np.float32)\n",
    "        class_label = np.zeros((18, 32, 4), dtype=np.float32)\n",
    "        \n",
    "        for i in range(len(positions)):\n",
    "            position = positions[i]\n",
    "            central_x = (position[0] + position[2]) / 2\n",
    "            central_y = (position[1] + position[3]) / 2\n",
    "            grid_x = int(central_x / 20)\n",
    "            grid_y = int(central_y / 20)\n",
    "            label = position[4]\n",
    "            confidence[grid_y, grid_x, 0] = 1\n",
    "            coordinate[grid_y, grid_x, :] = [i/640 for i in position[:4]]\n",
    "            if label == 1:\n",
    "                class_label[grid_y, grid_x,0] = 1\n",
    "            if label == 2:\n",
    "                class_label[grid_y, grid_x,1] = 1\n",
    "            if label == 3:\n",
    "                class_label[grid_y, grid_x,2] = 1\n",
    "            if label == 20:\n",
    "                class_label[grid_y, grid_x,2] = 1\n",
    "                \n",
    "        return confidence, coordinate, class_label\n"
   ]
  },
  {
   "cell_type": "code",
   "execution_count": 7,
   "metadata": {
    "collapsed": true
   },
   "outputs": [],
   "source": [
    "image_processor = image_preprocessing(train_file, label_file, validation_file)\n",
    "image_processor.prepare_data()"
   ]
  },
  {
   "cell_type": "code",
   "execution_count": 22,
   "metadata": {},
   "outputs": [
    {
     "data": {
      "text/plain": [
       "(200, 18, 32, 4)"
      ]
     },
     "execution_count": 22,
     "metadata": {},
     "output_type": "execute_result"
    }
   ],
   "source": [
    "image_processor.validation_labels['class_label'].shape"
   ]
  },
  {
   "cell_type": "code",
   "execution_count": 19,
   "metadata": {
    "collapsed": true
   },
   "outputs": [],
   "source": [
    "mini_batch, labels = image_processor.get_next_image_batch(5000)"
   ]
  },
  {
   "cell_type": "code",
   "execution_count": 20,
   "metadata": {},
   "outputs": [
    {
     "name": "stdout",
     "output_type": "stream",
     "text": [
      "(5000, 360, 640, 3)\n"
     ]
    }
   ],
   "source": [
    "print(mini_batch.shape)"
   ]
  },
  {
   "cell_type": "code",
   "execution_count": 21,
   "metadata": {},
   "outputs": [
    {
     "name": "stdout",
     "output_type": "stream",
     "text": [
      "(5000, 18, 32, 1)\n",
      "(5000, 18, 32, 4)\n",
      "(5000, 18, 32, 4)\n"
     ]
    }
   ],
   "source": [
    "print(labels['confidence'].shape)\n",
    "print(labels['coordinate'].shape)\n",
    "print(labels['class_label'].shape)"
   ]
  },
  {
   "cell_type": "code",
   "execution_count": null,
   "metadata": {
    "collapsed": true
   },
   "outputs": [],
   "source": [
    "image_processor.images[1]"
   ]
  },
  {
   "cell_type": "code",
   "execution_count": null,
   "metadata": {
    "collapsed": true
   },
   "outputs": [],
   "source": []
  }
 ],
 "metadata": {
  "kernelspec": {
   "display_name": "Python 3",
   "language": "python",
   "name": "python3"
  },
  "language_info": {
   "codemirror_mode": {
    "name": "ipython",
    "version": 3
   },
   "file_extension": ".py",
   "mimetype": "text/x-python",
   "name": "python",
   "nbconvert_exporter": "python",
   "pygments_lexer": "ipython3",
   "version": "3.6.2"
  }
 },
 "nbformat": 4,
 "nbformat_minor": 2
}
